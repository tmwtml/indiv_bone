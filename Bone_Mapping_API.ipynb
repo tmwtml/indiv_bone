{
 "cells": [
  {
   "cell_type": "code",
   "execution_count": 1,
   "metadata": {
    "collapsed": true
   },
   "outputs": [],
   "source": [
    "import numpy as np\n",
    "import pandas as pd\n",
    "import cv2\n",
    "import os"
   ]
  },
  {
   "cell_type": "code",
   "execution_count": 2,
   "metadata": {
    "collapsed": true
   },
   "outputs": [],
   "source": [
    "filename = '160420150001'\n",
    "img = cv2.imread('data/' + filename + '/Ori_Image.bmp', 0)\n",
    "\n",
    "#cv2.imshow('image', img)\n",
    "#cv2.waitKey(0)\n",
    "#cv2.destroyAllWindows()"
   ]
  },
  {
   "cell_type": "code",
   "execution_count": 3,
   "metadata": {
    "collapsed": true
   },
   "outputs": [],
   "source": [
    "#for 160320150003\n",
    "#coor = [[38,133,192,289],[328,133,477,288],[607,133,757,286],[892,131,1040,287]]\n",
    "\n",
    "#for 160420150001\n",
    "coor = [[29,136,193,315],[318,137,490,316],[591,133,761,311],[886,135,1051,315]]"
   ]
  },
  {
   "cell_type": "code",
   "execution_count": 4,
   "metadata": {
    "collapsed": true
   },
   "outputs": [],
   "source": [
    "savename = 'data/' + filename + '/map'\n",
    "\n",
    "if not os.path.exists(savename):\n",
    "    os.makedirs(savename)"
   ]
  },
  {
   "cell_type": "code",
   "execution_count": 5,
   "metadata": {
    "collapsed": true
   },
   "outputs": [],
   "source": [
    "def bonemap(img, img1, img2):\n",
    "    left1 = coor[img1][0]\n",
    "    top1 = coor[img1][1]\n",
    "    right1 = coor[img1][2]\n",
    "    bottom1 = coor[img1][3]\n",
    "    width1 = right1 - left1\n",
    "    height1 = bottom1 - top1\n",
    "    \n",
    "    left2 = coor[img2][0]\n",
    "    top2 = coor[img2][1]\n",
    "    right2 = coor[img2][2]\n",
    "    bottom2 = coor[img2][3]\n",
    "    width2 = right2 - left2\n",
    "    height2 = bottom2 - top2\n",
    "    \n",
    "    best_x = 0\n",
    "    best_y = 0\n",
    "    maxs = 0\n",
    "    \n",
    "    for x in range(max(left1 - width2//10, 0), left1 + width1//10):\n",
    "        for y in range(max(top1 - height2//10, 0), top1 + height1//10):\n",
    "            s = 0\n",
    "            n = 0\n",
    "            for i in range(max(left1, x), min(right1, x + width2)):\n",
    "                for j in range(max(top1, y), min(bottom1, y + height2)):\n",
    "                    s += (255 - img[j, i]) * (255 - img[top2 - y + j, left2 - x + i])\n",
    "                    n += 1\n",
    "            if s > maxs:\n",
    "                maxs = s\n",
    "                best_x = x\n",
    "                best_y = y\n",
    "                \n",
    "    l1 = max(left1, best_x)\n",
    "    t1 = max(top1, best_y)\n",
    "    r1 = min(right1, best_x + width2)\n",
    "    b1 = min(bottom1, best_y + width2)\n",
    "    \n",
    "    l2 = left2 - best_x + l1\n",
    "    t2 = top2 - best_y + t1\n",
    "    r2 = l2 + r1 - l1\n",
    "    b2 = t2 + b1 - t1\n",
    "    \n",
    "    return [[l1,t1,r1,b1],[l2,t2,r2,b2]]"
   ]
  },
  {
   "cell_type": "code",
   "execution_count": 6,
   "metadata": {},
   "outputs": [
    {
     "name": "stdout",
     "output_type": "stream",
     "text": [
      "[[ 29 136 193 304]\n",
      " [595 135 759 303]]\n"
     ]
    }
   ],
   "source": [
    "if not os.path.exists(savename + '/mapping_1.csv'):\n",
    "    mapping1 = np.array(bonemap(img, 0, 2))\n",
    "    np.savetxt(savename + '/mapping_1.csv', mapping1, fmt='%i', delimiter=',', header='x1,y1,x2,y2', comments='')\n",
    "else:\n",
    "    mapping1 = np.array(pd.read_csv(savename + '/mapping_1.csv'))\n",
    "    \n",
    "print(mapping1)"
   ]
  },
  {
   "cell_type": "code",
   "execution_count": 7,
   "metadata": {},
   "outputs": [
    {
     "data": {
      "text/plain": [
       "True"
      ]
     },
     "execution_count": 7,
     "metadata": {},
     "output_type": "execute_result"
    }
   ],
   "source": [
    "width1 = mapping1[0][2] - mapping1[0][0]\n",
    "height1 = mapping1[0][3] - mapping1[0][1]\n",
    "avg_img1 = np.zeros((height1, width1, 3), dtype=np.uint8)\n",
    "\n",
    "for i in range(width1):\n",
    "    for j in range(height1):\n",
    "        avg_img1[j,i,0] = int(img[mapping1[0][1] + j, mapping1[0][0] + i])\n",
    "        avg_img1[j,i,2] = int(img[mapping1[1][1] + j, mapping1[1][0] + i])\n",
    "        avg_img1[j,i,1] = (int(avg_img1[j,i,0]) + int(avg_img1[j,i,2]))//2\n",
    "\n",
    "cv2.imwrite(savename + '/image_1.jpg', avg_img1)"
   ]
  },
  {
   "cell_type": "code",
   "execution_count": 8,
   "metadata": {
    "scrolled": true
   },
   "outputs": [
    {
     "name": "stdout",
     "output_type": "stream",
     "text": [
      "[[ 320  137  485  301]\n",
      " [ 886  136 1051  300]]\n"
     ]
    }
   ],
   "source": [
    "if not os.path.exists(savename + '/mapping_2.csv'):\n",
    "    mapping2 = np.array(bonemap(img, 1, 3))\n",
    "    np.savetxt(savename + '/mapping_2.csv', mapping1, fmt='%i', delimiter=',', header='x1,y1,x2,y2', comments='')\n",
    "else:\n",
    "    mapping2 = np.array(pd.read_csv(savename + '/mapping_2.csv'))\n",
    "    \n",
    "print(mapping2)"
   ]
  },
  {
   "cell_type": "code",
   "execution_count": 9,
   "metadata": {},
   "outputs": [
    {
     "data": {
      "text/plain": [
       "True"
      ]
     },
     "execution_count": 9,
     "metadata": {},
     "output_type": "execute_result"
    }
   ],
   "source": [
    "width2 = mapping2[0][2] - mapping2[0][0]\n",
    "height2 = mapping2[0][3] - mapping2[0][1]\n",
    "avg_img2 = np.zeros((height2, width2, 3), dtype=np.uint8)\n",
    "\n",
    "for i in range(width2):\n",
    "    for j in range(height2):\n",
    "        avg_img2[j,i,0] = int(img[mapping2[0][1] + j, mapping2[0][0] + i])\n",
    "        avg_img2[j,i,2] = int(img[mapping2[1][1] + j, mapping2[1][0] + i])\n",
    "        avg_img2[j,i,1] = (int(avg_img2[j,i,0]) + int(avg_img2[j,i,2]))//2\n",
    "\n",
    "cv2.imwrite(savename + '/image_2.jpg', avg_img2)"
   ]
  },
  {
   "cell_type": "code",
   "execution_count": 10,
   "metadata": {
    "collapsed": true
   },
   "outputs": [],
   "source": [
    "d = os.listdir('data/' + filename)\n",
    "n = 0\n",
    "for f in d:\n",
    "    if f.startswith('image_'):\n",
    "        n += 1"
   ]
  },
  {
   "cell_type": "code",
   "execution_count": 11,
   "metadata": {
    "collapsed": true
   },
   "outputs": [],
   "source": [
    "label_img1 = avg_img1.copy()\n",
    "label_img2 = avg_img2.copy()\n",
    "\n",
    "label1 = []\n",
    "label2 = []\n",
    "\n",
    "for k in range(n):\n",
    "    data = pd.read_csv('data/' + filename + '/image_' + str(k) + '/label_' + str(k) + '.csv', header=None)\n",
    "\n",
    "    for i in range(2):\n",
    "        if int(data[0][3]) >= mapping1[i][0] and int(data[0][3]) <= mapping1[i][2]:\n",
    "            for r in range(5, data.shape[0]):\n",
    "                x = int(data[0][r]) - mapping1[i][0]\n",
    "                y = int(data[1][r]) - mapping1[i][1]\n",
    "                label_img1[y, x, 2] = 255\n",
    "                label1.append([x, y])\n",
    "\n",
    "    for i in range(2):\n",
    "        if int(data[0][3]) >= mapping2[i][0] and int(data[0][3]) <= mapping2[i][2]:\n",
    "            for r in range(5, data.shape[0]):\n",
    "                x = int(data[0][r]) - mapping2[i][0]\n",
    "                y = int(data[1][r]) - mapping2[i][1]\n",
    "                label_img2[y, x, 2] = 255\n",
    "                label2.append([x, y])\n",
    "\n",
    "cv2.imwrite(savename + '/label_image_1.jpg', label_img1)\n",
    "cv2.imwrite(savename + '/label_image_2.jpg', label_img2)\n",
    "\n",
    "np.savetxt(savename + '/label_1.csv', np.asarray(label1), fmt='%i', delimiter=',', header='x,y', comments='')\n",
    "np.savetxt(savename + '/label_2.csv', np.asarray(label2), fmt='%i', delimiter=',', header='x,y', comments='')"
   ]
  },
  {
   "cell_type": "code",
   "execution_count": null,
   "metadata": {
    "collapsed": true
   },
   "outputs": [],
   "source": []
  }
 ],
 "metadata": {
  "kernelspec": {
   "display_name": "Python 3",
   "language": "python",
   "name": "python3"
  },
  "language_info": {
   "codemirror_mode": {
    "name": "ipython",
    "version": 3
   },
   "file_extension": ".py",
   "mimetype": "text/x-python",
   "name": "python",
   "nbconvert_exporter": "python",
   "pygments_lexer": "ipython3",
   "version": "3.6.2"
  }
 },
 "nbformat": 4,
 "nbformat_minor": 2
}
